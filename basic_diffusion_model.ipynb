{
 "cells": [
  {
   "cell_type": "code",
   "execution_count": 91,
   "metadata": {},
   "outputs": [],
   "source": [
    "import torch\n",
    "from torchvision import datasets, transforms\n",
    "from torch.utils.data import DataLoader, random_split\n",
    "import matplotlib.pyplot as plt\n",
    "import torch.nn as nn\n",
    "import math\n",
    "from tqdm import tqdm\n",
    "import numpy as np"
   ]
  },
  {
   "cell_type": "code",
   "execution_count": 254,
   "metadata": {},
   "outputs": [
    {
     "data": {
      "image/png": "[encoded data removed]",
      "text/plain": [
       "<Figure size 1500x600 with 12 Axes>"
      ]
     },
     "metadata": {},
     "output_type": "display_data"
    }
   ],
   "source": [
    "def load_fashion_mnist_dataset(img_size, n_samples, batch_size):\n",
    "    # Define transformation: resize and scale to [-1, 1]\n",
    "    transform = transforms.Compose([\n",
    "        transforms.Resize((img_size, img_size)),\n",
    "        transforms.ToTensor(),\n",
    "        transforms.Normalize(mean=[0.5], std=[0.5])  # maps [0,1] to [-1,1] for grayscale\n",
    "    ])\n",
    "\n",
    "    # Download and load the Fashion-MNIST dataset\n",
    "    dataset = datasets.FashionMNIST(root='./data', train=True, download=True, transform=transform)\n",
    "\n",
    "    # Limit the number of samples\n",
    "    if n_samples is not None and n_samples < len(dataset):\n",
    "        dataset, _ = random_split(dataset, [n_samples, len(dataset) - n_samples])\n",
    "\n",
    "    # Create DataLoader\n",
    "    dataloader = DataLoader(dataset, batch_size=batch_size, shuffle=True)\n",
    "    return dataloader\n",
    "\n",
    "import matplotlib.pyplot as plt\n",
    "\n",
    "def show_images(images, img_size, n_to_show=5, cols_per_row=3):\n",
    "    images = images / 2 + 0.5\n",
    "    n_rows = (n_to_show + cols_per_row - 1) // cols_per_row  # Calculate the number of rows needed\n",
    "    \n",
    "    plt.figure(figsize=(15, 3 * n_rows))  # Adjust the size of the figure based on the number of rows\n",
    "    for i, img in enumerate(images):\n",
    "        if i >= n_to_show:\n",
    "            break\n",
    "\n",
    "        plt.subplot(n_rows, cols_per_row, i + 1)  # Arrange images in multiple rows and columns\n",
    "        plt.imshow(img.squeeze().cpu().detach(), cmap='gray')  # Use squeeze() for grayscale images\n",
    "        plt.axis('off')\n",
    "    plt.show()\n",
    "\n",
    "# Parameters\n",
    "img_size = 32  # Resize to 32x32, or keep 28x28 as per your requirement\n",
    "n_samples = 20_000\n",
    "batch_size = 128\n",
    "\n",
    "# Load the dataset\n",
    "dataloader = load_fashion_mnist_dataset(img_size, n_samples, batch_size)\n",
    "\n",
    "# Get some random training images\n",
    "dataiter = iter(dataloader)\n",
    "images, labels = next(dataiter)\n",
    "\n",
    "# Display images\n",
    "show_images(images, img_size, n_to_show=12, cols_per_row = 6)"
   ]
  },
  {
   "cell_type": "code",
   "execution_count": 93,
   "metadata": {},
   "outputs": [],
   "source": [
    "device = torch.device(\"cuda\")"
   ]
  },
  {
   "cell_type": "code",
   "execution_count": 136,
   "metadata": {},
   "outputs": [],
   "source": [
    "T = 1000\n",
    "\n",
    "betas = torch.linspace(1e-4, 0.02, T).to(device)\n",
    "sqrt_betas = torch.sqrt(betas)\n",
    "alphas = 1 - betas\n",
    "inv_sqrt_alphas = 1.0 / torch.sqrt(alphas)\n",
    "\n",
    "a_bars = torch.cumprod(alphas, dim=0)\n",
    "sqrt_a_bars = torch.sqrt(a_bars)\n",
    "sqrt_one_minus_a_bars = torch.sqrt(1.0 - a_bars)\n",
    "inv_sqrt_one_minus_alpha_bars = 1.0 / sqrt_one_minus_a_bars"
   ]
  },
  {
   "cell_type": "code",
   "execution_count": 95,
   "metadata": {},
   "outputs": [],
   "source": [
    "# horrible name i know\n",
    "def get_as_value_images(scalar_list, batched_times):\n",
    "    \n",
    "    B = len(batched_times)\n",
    "    \n",
    "    return scalar_list[batched_times].view(B, 1).unsqueeze(2).unsqueeze(3)"
   ]
  },
  {
   "cell_type": "code",
   "execution_count": 213,
   "metadata": {},
   "outputs": [],
   "source": [
    "def forward(X, t):\n",
    "    \n",
    "    # returns noise and noisy picture (the picture at t + 1)\n",
    "    \n",
    "    epsilon = torch.randn_like(X).to(device)\n",
    "    \n",
    "    sqrt_a_bars_t = get_as_value_images(sqrt_a_bars, t)\n",
    "    \n",
    "    sqrt_one_minus_a_bars_t = get_as_value_images(sqrt_one_minus_a_bars, t)\n",
    "    \n",
    "    noisy_images = (sqrt_a_bars_t * X) + (sqrt_one_minus_a_bars_t * epsilon)\n",
    "    \n",
    "    return noisy_images, epsilon"
   ]
  },
  {
   "cell_type": "code",
   "execution_count": 214,
   "metadata": {},
   "outputs": [],
   "source": [
    "class UNetBlock(nn.Module):\n",
    "    \n",
    "    # the time_emb_dim stays the same (is defined in the UNet, single number like t = 5 gets a 32-dim vector for example)\n",
    "    \n",
    "    def __init__(self, in_channels, out_channels, time_emb_dim, up=False):\n",
    "        \n",
    "        super().__init__()\n",
    "        \n",
    "        # no resize but convolution gets done afterwards\n",
    "        # kernel size = 3, padding = 1 (we don't change the dimensions)\n",
    "        # if we don't specify anything, stride = 1\n",
    "        self.conv2 = nn.Conv2d(out_channels, out_channels, 3, padding=1)\n",
    "        \n",
    "        # every outchannel needs to be aware of the time...\n",
    "        self.time_trafo = nn.Linear(time_emb_dim, out_channels)\n",
    "        \n",
    "        if up:\n",
    "            # local computation to work in the residual connections\n",
    "            self.conv1 = nn.Conv2d(2 * in_channels, out_channels, 3, padding=1)\n",
    "            # upsampling (but not UpSample [the reverse to MaxPool])\n",
    "            self.transform = nn.ConvTranspose2d(out_channels, out_channels, 4, 2, 1)\n",
    "        else:\n",
    "            self.conv1 = nn.Conv2d(in_channels, out_channels, 3, padding=1)\n",
    "            # downsampling\n",
    "            self.transform = nn.Conv2d(out_channels, out_channels, 4, 2, 1)\n",
    "            \n",
    "        # image -> conv1 -> relu -> batch -> conv2 -> relu -> batch -> transform [image dimensions change]\n",
    "        \n",
    "        self.batch1 = nn.BatchNorm2d(out_channels)\n",
    "        self.batch2 = nn.BatchNorm2d(out_channels)\n",
    "        self.relu = nn.ReLU()\n",
    "        \n",
    "        self.to(device)\n",
    "        \n",
    "    def forward(self, X, t):\n",
    "        \n",
    "        time_embedding_this_block = self.relu(self.time_trafo(t))\n",
    "        \n",
    "        # time embedding = same number as out channels\n",
    "        time_embedding_this_block = time_embedding_this_block.unsqueeze(2).unsqueeze(3)\n",
    "                        \n",
    "        X = self.conv1(X)\n",
    "        X = self.relu(X)\n",
    "        X = self.batch1(X)\n",
    "        \n",
    "        # X has out_channels so we can finally add the time embedding\n",
    "        X = X + time_embedding_this_block\n",
    "        \n",
    "        X = self.conv2(X)\n",
    "        X = self.relu(X)\n",
    "        X = self.batch2(X)\n",
    "        \n",
    "        return self.transform(X)"
   ]
  },
  {
   "cell_type": "code",
   "execution_count": 215,
   "metadata": {},
   "outputs": [],
   "source": [
    "# in Transfomers you can learn the embeddings (scalar to vector of size dim)\n",
    "# with nn.Embedding\n",
    "# this can be done as well (no learning but the rows are clearly distringuisable because of the varying freqs)\n",
    "\n",
    "class SinusoidalPositionEmbeddings(nn.Module):\n",
    "    def __init__(self, dim):\n",
    "        super().__init__()\n",
    "        self.dim = dim\n",
    "        \n",
    "        self.to(device)\n",
    "\n",
    "    def forward(self, time):\n",
    "        device = time.device\n",
    "        half_dim = self.dim // 2\n",
    "        embeddings = math.log(10000) / (half_dim - 1)\n",
    "        embeddings = torch.exp(torch.arange(half_dim, device=device) * -embeddings)\n",
    "        embeddings = time[:, None] * embeddings[None, :]\n",
    "        embeddings = torch.cat((embeddings.sin(), embeddings.cos()), dim=-1)\n",
    "        # TODO: Double check the ordering here\n",
    "        return embeddings"
   ]
  },
  {
   "cell_type": "code",
   "execution_count": 216,
   "metadata": {},
   "outputs": [],
   "source": [
    "class UNet(nn.Module):\n",
    "    \n",
    "    # the time_emb_dim stays the same ()\n",
    "    def __init__(self, img_channels):\n",
    "        \n",
    "        super().__init__()\n",
    "        \n",
    "        # 32 -> 16 -> 8\n",
    "        down = [64, 128, 256, 512]\n",
    "        up = [512, 256, 128, 64]\n",
    "        self.n_steps = len(down)\n",
    "        \n",
    "        # a scalar (the time t = 5 for example) gets a 32-dimensional vector (like in Transformers)\n",
    "        time_emb_dim = 64\n",
    "        \n",
    "        self.time_embedding = nn.Sequential(\n",
    "            SinusoidalPositionEmbeddings(dim = time_emb_dim),\n",
    "            nn.Linear(time_emb_dim, time_emb_dim),\n",
    "            nn.ReLU()\n",
    "        )\n",
    "        \n",
    "        self.first_conv = nn.Conv2d(img_channels, down[0], 3, padding=1)\n",
    "        \n",
    "        self.down_blocks = [UNetBlock(down[i], down[i + 1], time_emb_dim) for i in range(len(down)-1)]\n",
    "        \n",
    "        self.encoder = nn.ModuleList(self.down_blocks)\n",
    "        \n",
    "        self.up_blocks = [UNetBlock(up[i], up[i + 1], time_emb_dim, up=True) for i in range(len(up)-1)]\n",
    "\n",
    "        self.decoder = nn.ModuleList(self.up_blocks)\n",
    "        \n",
    "        self.last_conv = nn.Conv2d(up[-1], img_channels, 1)\n",
    "        \n",
    "        self.to(device)\n",
    "        \n",
    "    def forward(self, X, t):\n",
    "        \n",
    "        # list of scalars [15, 3, 8, 4] to list of rows with row = 32-dimensional vector\n",
    "        t = self.time_embedding(t)\n",
    "        \n",
    "        # TODO: don't forget positional embedding\n",
    "        residuals = []\n",
    "        \n",
    "        curr = self.first_conv(X)\n",
    "                        \n",
    "        for i in range(self.n_steps - 1):\n",
    "            \n",
    "            curr = self.encoder[i](curr, t)\n",
    "            \n",
    "            residuals.append(curr)\n",
    "            \n",
    "        for i in range(self.n_steps - 1):\n",
    "            \n",
    "            res_input = residuals.pop()\n",
    "            \n",
    "            curr = self.decoder[i](torch.cat((curr, res_input), dim=1), t)\n",
    "            \n",
    "        curr = self.last_conv(curr)\n",
    "        \n",
    "        return curr"
   ]
  },
  {
   "cell_type": "code",
   "execution_count": 217,
   "metadata": {},
   "outputs": [],
   "source": [
    "def get_noisy_images(X):\n",
    "    \n",
    "    # every picture gets a different amount of noise\n",
    "    B = X.shape[0]\n",
    "    t = torch.randint(1, T, (B, ), device=device).long()\n",
    "        \n",
    "    noisy_images, epsilons = forward(X, t)\n",
    "    \n",
    "    return noisy_images, epsilons, t"
   ]
  },
  {
   "cell_type": "code",
   "execution_count": 218,
   "metadata": {},
   "outputs": [],
   "source": [
    "mse = nn.MSELoss()\n",
    "\n",
    "def loss(model, noisy_images, epsilons, t):\n",
    "    \n",
    "    noise_predictions = model(noisy_images, t)\n",
    "    \n",
    "    return mse(epsilons, noise_predictions)"
   ]
  },
  {
   "cell_type": "code",
   "execution_count": 219,
   "metadata": {},
   "outputs": [],
   "source": [
    "unet = UNet(img_channels = 1)"
   ]
  },
  {
   "cell_type": "code",
   "execution_count": 220,
   "metadata": {},
   "outputs": [],
   "source": [
    "optim = torch.optim.Adam(unet.parameters(), lr=1e-4)"
   ]
  },
  {
   "cell_type": "code",
   "execution_count": 244,
   "metadata": {},
   "outputs": [
    {
     "name": "stderr",
     "output_type": "stream",
     "text": [
      "100%|█████████████████████████████████████████| 157/157 [00:16<00:00,  9.45it/s]\n"
     ]
    },
    {
     "name": "stdout",
     "output_type": "stream",
     "text": [
      "1. loss = 0.04038799683426975\n"
     ]
    },
    {
     "name": "stderr",
     "output_type": "stream",
     "text": [
      "100%|█████████████████████████████████████████| 157/157 [00:16<00:00,  9.46it/s]\n"
     ]
    },
    {
     "name": "stdout",
     "output_type": "stream",
     "text": [
      "2. loss = 0.03832346719399\n"
     ]
    },
    {
     "name": "stderr",
     "output_type": "stream",
     "text": [
      "100%|█████████████████████████████████████████| 157/157 [00:16<00:00,  9.45it/s]\n"
     ]
    },
    {
     "name": "stdout",
     "output_type": "stream",
     "text": [
      "3. loss = 0.037248520429726616\n"
     ]
    },
    {
     "name": "stderr",
     "output_type": "stream",
     "text": [
      "100%|█████████████████████████████████████████| 157/157 [00:16<00:00,  9.43it/s]\n"
     ]
    },
    {
     "name": "stdout",
     "output_type": "stream",
     "text": [
      "4. loss = 0.03520232157864768\n"
     ]
    },
    {
     "name": "stderr",
     "output_type": "stream",
     "text": [
      "100%|█████████████████████████████████████████| 157/157 [00:16<00:00,  9.43it/s]\n"
     ]
    },
    {
     "name": "stdout",
     "output_type": "stream",
     "text": [
      "5. loss = 0.034362323594036376\n"
     ]
    },
    {
     "name": "stderr",
     "output_type": "stream",
     "text": [
      "100%|█████████████████████████████████████████| 157/157 [00:16<00:00,  9.43it/s]\n"
     ]
    },
    {
     "name": "stdout",
     "output_type": "stream",
     "text": [
      "6. loss = 0.03458072503755806\n"
     ]
    },
    {
     "name": "stderr",
     "output_type": "stream",
     "text": [
      "100%|█████████████████████████████████████████| 157/157 [00:16<00:00,  9.43it/s]\n"
     ]
    },
    {
     "name": "stdout",
     "output_type": "stream",
     "text": [
      "7. loss = 0.0347852336871586\n"
     ]
    },
    {
     "name": "stderr",
     "output_type": "stream",
     "text": [
      "100%|█████████████████████████████████████████| 157/157 [00:16<00:00,  9.42it/s]\n"
     ]
    },
    {
     "name": "stdout",
     "output_type": "stream",
     "text": [
      "8. loss = 0.03269194257534613\n"
     ]
    },
    {
     "name": "stderr",
     "output_type": "stream",
     "text": [
      "100%|█████████████████████████████████████████| 157/157 [00:16<00:00,  9.42it/s]\n"
     ]
    },
    {
     "name": "stdout",
     "output_type": "stream",
     "text": [
      "9. loss = 0.03250319458496798\n"
     ]
    },
    {
     "name": "stderr",
     "output_type": "stream",
     "text": [
      "100%|█████████████████████████████████████████| 157/157 [00:16<00:00,  9.42it/s]\n"
     ]
    },
    {
     "name": "stdout",
     "output_type": "stream",
     "text": [
      "10. loss = 0.031824424815405705\n"
     ]
    },
    {
     "name": "stderr",
     "output_type": "stream",
     "text": [
      "100%|█████████████████████████████████████████| 157/157 [00:16<00:00,  9.42it/s]\n"
     ]
    },
    {
     "name": "stdout",
     "output_type": "stream",
     "text": [
      "11. loss = 0.030663966076673977\n"
     ]
    },
    {
     "name": "stderr",
     "output_type": "stream",
     "text": [
      "100%|█████████████████████████████████████████| 157/157 [00:16<00:00,  9.43it/s]\n"
     ]
    },
    {
     "name": "stdout",
     "output_type": "stream",
     "text": [
      "12. loss = 0.03070546836135494\n"
     ]
    },
    {
     "name": "stderr",
     "output_type": "stream",
     "text": [
      "100%|█████████████████████████████████████████| 157/157 [00:16<00:00,  9.42it/s]\n"
     ]
    },
    {
     "name": "stdout",
     "output_type": "stream",
     "text": [
      "13. loss = 0.03162642927828488\n"
     ]
    },
    {
     "name": "stderr",
     "output_type": "stream",
     "text": [
      "100%|█████████████████████████████████████████| 157/157 [00:16<00:00,  9.43it/s]\n"
     ]
    },
    {
     "name": "stdout",
     "output_type": "stream",
     "text": [
      "14. loss = 0.030709782223792594\n"
     ]
    },
    {
     "name": "stderr",
     "output_type": "stream",
     "text": [
      "100%|█████████████████████████████████████████| 157/157 [00:16<00:00,  9.42it/s]"
     ]
    },
    {
     "name": "stdout",
     "output_type": "stream",
     "text": [
      "15. loss = 0.030747959473330505\n"
     ]
    },
    {
     "name": "stderr",
     "output_type": "stream",
     "text": [
      "\n"
     ]
    }
   ],
   "source": [
    "n_epochs = 15\n",
    "\n",
    "for epoch_idx in range(n_epochs):\n",
    "    \n",
    "    batch_losses = []\n",
    "    \n",
    "    for X_batch, _ in tqdm(dataloader):\n",
    "        \n",
    "        X_batch = X_batch.to(device)\n",
    "        \n",
    "        noisy_images, epsilons, t = get_noisy_images(X_batch)\n",
    "        \n",
    "        l_batch = loss(unet, noisy_images, epsilons, t)\n",
    "        \n",
    "        batch_losses.append(l_batch.item())\n",
    "        \n",
    "        optim.zero_grad()\n",
    "        l_batch.backward()\n",
    "        optim.step()\n",
    "    \n",
    "    epoch_loss = np.mean(np.array(batch_losses))\n",
    "    \n",
    "    print(f\"{epoch_idx +  1}. loss = {epoch_loss}\")"
   ]
  },
  {
   "cell_type": "code",
   "execution_count": 245,
   "metadata": {},
   "outputs": [],
   "source": [
    "@torch.no_grad()\n",
    "def sample_from_model(model, img_size, num_samples):\n",
    "    \n",
    "    curr = torch.randn((num_samples, 1, img_size, img_size)).to(device)\n",
    "    \n",
    "    model.eval()\n",
    "    for t in tqdm(reversed(range(0, T))):\n",
    "        \n",
    "        if t > 0:\n",
    "            z = torch.randn((num_samples, 1, img_size, img_size)).to(device)\n",
    "            \n",
    "        else:\n",
    "            z = 0\n",
    "            \n",
    "        t_tensor = torch.tensor([t] * num_samples).long().to(device)\n",
    "                    \n",
    "        noise_preds = model(curr, t_tensor)\n",
    "        \n",
    "        inv_sqrt_alpha_t = get_as_value_images(inv_sqrt_alphas, t_tensor)\n",
    "        inv_sqrt_one_minus_alpha_bar_t = get_as_value_images(inv_sqrt_one_minus_alpha_bars, t_tensor)\n",
    "        beta_t = get_as_value_images(betas, t_tensor)\n",
    "        sigma_t = get_as_value_images(sqrt_betas, t_tensor)\n",
    "\n",
    "        \n",
    "        model_mean = inv_sqrt_alpha_t * (curr - (beta_t * inv_sqrt_one_minus_alpha_bar_t) * noise_preds)\n",
    "        \n",
    "        # denoise one step \n",
    "        curr = model_mean + sigma_t * z\n",
    "        \n",
    "    curr = torch.clamp(curr, min=-1, max=1)\n",
    "    \n",
    "    model.train()\n",
    "    return curr"
   ]
  },
  {
   "cell_type": "code",
   "execution_count": 250,
   "metadata": {},
   "outputs": [
    {
     "name": "stderr",
     "output_type": "stream",
     "text": [
      "1000it [00:14, 68.17it/s]\n"
     ]
    }
   ],
   "source": [
    "gens = sample_from_model(model = unet, img_size = img_size, num_samples = 50)"
   ]
  },
  {
   "cell_type": "code",
   "execution_count": 253,
   "metadata": {
    "scrolled": true
   },
   "outputs": [
    {
     "data": {
      "image/png": "[encoded data removed]",
      "text/plain": [
       "<Figure size 1500x1200 with 20 Axes>"
      ]
     },
     "metadata": {},
     "output_type": "display_data"
    }
   ],
   "source": [
    "show_images(gens, img_size, n_to_show = 20, cols_per_row = 6)"
   ]
  },
  {
   "cell_type": "code",
   "execution_count": 255,
   "metadata": {},
   "outputs": [],
   "source": [
    "torch.save(unet.state_dict(), 'unet.pth')"
   ]
  }
 ],
 "metadata": {
  "kernelspec": {
   "display_name": "inpainting",
   "language": "python",
   "name": "myenv"
  },
  "language_info": {
   "codemirror_mode": {
    "name": "ipython",
    "version": 3
   },
   "file_extension": ".py",
   "mimetype": "text/x-python",
   "name": "python",
   "nbconvert_exporter": "python",
   "pygments_lexer": "ipython3",
   "version": "3.10.9"
  }
 },
 "nbformat": 4,
 "nbformat_minor": 5
}
